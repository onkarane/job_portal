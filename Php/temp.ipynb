{
 "metadata": {
  "language_info": {
   "codemirror_mode": {
    "name": "ipython",
    "version": 3
   },
   "file_extension": ".py",
   "mimetype": "text/x-python",
   "name": "python",
   "nbconvert_exporter": "python",
   "pygments_lexer": "ipython3",
   "version": "3.9.1-final"
  },
  "orig_nbformat": 2,
  "kernelspec": {
   "name": "python3",
   "display_name": "Python 3.9.1 64-bit",
   "metadata": {
    "interpreter": {
     "hash": "aee8b7b246df8f9039afb4144a1f6fd8d2ca17a180786b69acc140d282b71a49"
    }
   }
  }
 },
 "nbformat": 4,
 "nbformat_minor": 2,
 "cells": [
  {
   "cell_type": "code",
   "execution_count": 1,
   "metadata": {},
   "outputs": [],
   "source": [
    "import sqlite3"
   ]
  },
  {
   "cell_type": "code",
   "execution_count": 2,
   "metadata": {},
   "outputs": [],
   "source": [
    "conn = sqlite3.connect(\"portal.db\")"
   ]
  },
  {
   "cell_type": "code",
   "execution_count": 3,
   "metadata": {},
   "outputs": [],
   "source": [
    "cur = conn.cursor()"
   ]
  },
  {
   "cell_type": "code",
   "execution_count": 4,
   "metadata": {},
   "outputs": [],
   "source": [
    "sql = (\"create table users (userid INTEGER PRIMARY KEY \"\n",
    "\"AUTOINCREMENT, fname text, lname text, dob date, street text, \"  \n",
    "\" city text, state text, zipcode Integer, education text, email text, password text)\"\n",
    ")"
   ]
  },
  {
   "cell_type": "code",
   "execution_count": 5,
   "metadata": {},
   "outputs": [
    {
     "output_type": "execute_result",
     "data": {
      "text/plain": [
       "<sqlite3.Cursor at 0x7f97f06a07a0>"
      ]
     },
     "metadata": {},
     "execution_count": 5
    }
   ],
   "source": [
    "cur.execute(sql)"
   ]
  },
  {
   "cell_type": "code",
   "execution_count": 6,
   "metadata": {},
   "outputs": [],
   "source": [
    "sql = (\"create table business (business_id INTEGER PRIMARY KEY \"\n",
    "\"AUTOINCREMENT, bus_name text, street text, \"  \n",
    "\" city text, state text, zipcode Integer, category text, email text, password text)\"\n",
    ")"
   ]
  },
  {
   "cell_type": "code",
   "execution_count": 7,
   "metadata": {},
   "outputs": [
    {
     "output_type": "execute_result",
     "data": {
      "text/plain": [
       "<sqlite3.Cursor at 0x7f97f06a07a0>"
      ]
     },
     "metadata": {},
     "execution_count": 7
    }
   ],
   "source": [
    "cur.execute(sql)"
   ]
  },
  {
   "cell_type": "code",
   "execution_count": 8,
   "metadata": {},
   "outputs": [
    {
     "output_type": "execute_result",
     "data": {
      "text/plain": [
       "<sqlite3.Cursor at 0x7f97f06a07a0>"
      ]
     },
     "metadata": {},
     "execution_count": 8
    }
   ],
   "source": [
    "sql = (\"create table job_category (job_cat_id INTEGER PRIMARY KEY \"\n",
    "\"AUTOINCREMENT, category text)\"\n",
    ")\n",
    "cur.execute(sql)"
   ]
  },
  {
   "cell_type": "code",
   "execution_count": null,
   "metadata": {},
   "outputs": [],
   "source": [
    "sql = sql = (\"create table job_category (job_cat_id INTEGER PRIMARY KEY \"\n",
    "\"AUTOINCREMENT, category text)\"\n",
    ")"
   ]
  },
  {
   "cell_type": "code",
   "execution_count": 11,
   "metadata": {},
   "outputs": [],
   "source": [
    "insert = (\"INSERT INTO business (bus_name, street, city, state, zipcode, category, email, password)\"\n",
    "            \"VALUES ('Tesla', '1113 W. Plum St', 'Fort Collins', 'CO', 80521, 'Technology', 'tesla@gmail.com', '1234')\")"
   ]
  },
  {
   "cell_type": "code",
   "execution_count": 12,
   "metadata": {},
   "outputs": [
    {
     "output_type": "execute_result",
     "data": {
      "text/plain": [
       "<sqlite3.Cursor at 0x7f97f06a07a0>"
      ]
     },
     "metadata": {},
     "execution_count": 12
    }
   ],
   "source": [
    "cur.execute(insert)"
   ]
  },
  {
   "cell_type": "code",
   "execution_count": 14,
   "metadata": {},
   "outputs": [
    {
     "output_type": "execute_result",
     "data": {
      "text/plain": [
       "[(1,\n",
       "  'Tesla',\n",
       "  '1113 W. Plum St',\n",
       "  'Fort Collins',\n",
       "  'CO',\n",
       "  80521,\n",
       "  'Technology',\n",
       "  'tesla@gmail.com',\n",
       "  '1234')]"
      ]
     },
     "metadata": {},
     "execution_count": 14
    }
   ],
   "source": [
    "cur.execute(\"SELECT business_id, bus_name, street, city, state, zipcode, category, email, password FROM business;\")\n",
    "cur.fetchall()"
   ]
  },
  {
   "cell_type": "code",
   "execution_count": 15,
   "metadata": {},
   "outputs": [],
   "source": [
    "insert = (\"INSERT INTO users (fname, lname, dob, street, city, state, zipcode, education, email, password)\"\n",
    "            \"VALUES ('Onkar', 'Rane', '04-09-1996', '1113 W. Plum St', 'Fort Collins', 'CO', 80521, 'Masters', 'onkar@colostate.edu', 'onkar4996')\")"
   ]
  },
  {
   "cell_type": "code",
   "execution_count": 16,
   "metadata": {},
   "outputs": [
    {
     "output_type": "execute_result",
     "data": {
      "text/plain": [
       "<sqlite3.Cursor at 0x7f97f06a07a0>"
      ]
     },
     "metadata": {},
     "execution_count": 16
    }
   ],
   "source": [
    "cur.execute(insert)"
   ]
  },
  {
   "cell_type": "code",
   "execution_count": 17,
   "metadata": {},
   "outputs": [
    {
     "output_type": "execute_result",
     "data": {
      "text/plain": [
       "[(1,\n",
       "  'Onkar',\n",
       "  'Rane',\n",
       "  '04-09-1996',\n",
       "  '1113 W. Plum St',\n",
       "  'Fort Collins',\n",
       "  'CO',\n",
       "  80521,\n",
       "  'Masters',\n",
       "  'onkar@colostate.edu',\n",
       "  'onkar4996')]"
      ]
     },
     "metadata": {},
     "execution_count": 17
    }
   ],
   "source": [
    "cur.execute(\"SELECT userid, fname, lname, dob, street, city, state, zipcode, education, email, password FROM users;\")\n",
    "cur.fetchall()"
   ]
  },
  {
   "cell_type": "code",
   "execution_count": 18,
   "metadata": {},
   "outputs": [
    {
     "output_type": "execute_result",
     "data": {
      "text/plain": [
       "[(1, 'Data Science')]"
      ]
     },
     "metadata": {},
     "execution_count": 18
    }
   ],
   "source": [
    "insert = \"insert into job_category (category) Values ('Data Science')\"\n",
    "cur.execute(insert)\n",
    "cur.execute(\"SELECT job_cat_id, category FROM job_category;\")\n",
    "cur.fetchall()"
   ]
  },
  {
   "cell_type": "code",
   "execution_count": 19,
   "metadata": {},
   "outputs": [
    {
     "output_type": "execute_result",
     "data": {
      "text/plain": [
       "<sqlite3.Cursor at 0x7f97f06a07a0>"
      ]
     },
     "metadata": {},
     "execution_count": 19
    }
   ],
   "source": [
    "sql = (\"create table jobs (job_id INTEGER PRIMARY KEY AUTOINCREMENT, \" \n",
    "        \"business_id integer, job_cat_id integer, title text, summary text, post_date date, type text, location text,\"\n",
    "        \"FOREIGN KEY(business_id) REFERENCES business(business_id), FOREIGN KEY(job_cat_id) REFERENCES job_category(job_cat_id))\")\n",
    "cur.execute(sql)"
   ]
  },
  {
   "cell_type": "code",
   "execution_count": 20,
   "metadata": {},
   "outputs": [
    {
     "output_type": "execute_result",
     "data": {
      "text/plain": [
       "['job_id',\n",
       " 'business_id',\n",
       " 'job_cat_id',\n",
       " 'title',\n",
       " 'summary',\n",
       " 'post_date',\n",
       " 'type',\n",
       " 'location']"
      ]
     },
     "metadata": {},
     "execution_count": 20
    }
   ],
   "source": [
    "cur.execute(\"Select * from jobs\")\n",
    "names = [description[0] for description in cur.description]\n",
    "names"
   ]
  },
  {
   "cell_type": "code",
   "execution_count": 22,
   "metadata": {},
   "outputs": [
    {
     "output_type": "execute_result",
     "data": {
      "text/plain": [
       "<sqlite3.Cursor at 0x7f97f06a07a0>"
      ]
     },
     "metadata": {},
     "execution_count": 22
    }
   ],
   "source": [
    "sql = (\"Create table job_application (user_id integer, business_id integer,\" \n",
    "\"FOREIGN KEY(business_id) REFERENCES business(business_id), FOREIGN KEY(user_id) REFERENCES users(userid))\")\n",
    "cur.execute(sql)"
   ]
  },
  {
   "cell_type": "code",
   "execution_count": 23,
   "metadata": {},
   "outputs": [
    {
     "output_type": "execute_result",
     "data": {
      "text/plain": [
       "['user_id', 'business_id']"
      ]
     },
     "metadata": {},
     "execution_count": 23
    }
   ],
   "source": [
    "cur.execute(\"Select * from job_application\")\n",
    "names = [description[0] for description in cur.description]\n",
    "names"
   ]
  },
  {
   "cell_type": "code",
   "execution_count": 24,
   "metadata": {},
   "outputs": [
    {
     "output_type": "execute_result",
     "data": {
      "text/plain": [
       "[(1,\n",
       "  1,\n",
       "  1,\n",
       "  'ML Engineer',\n",
       "  'should know python and tablau',\n",
       "  '03-18-2021',\n",
       "  'full-time',\n",
       "  'California')]"
      ]
     },
     "metadata": {},
     "execution_count": 24
    }
   ],
   "source": [
    "insert = (\"INSERT INTO jobs (business_id, job_cat_id, title, summary, post_date, type, location) \"\n",
    "            \"VALUES (1, 1, 'ML Engineer', 'should know python and tablau', '03-18-2021', 'full-time', 'California')\")\n",
    "cur.execute(insert)\n",
    "cur.execute(\"Select * from jobs\")\n",
    "cur.fetchall()"
   ]
  },
  {
   "cell_type": "code",
   "execution_count": 25,
   "metadata": {},
   "outputs": [
    {
     "output_type": "execute_result",
     "data": {
      "text/plain": [
       "[(1, 1)]"
      ]
     },
     "metadata": {},
     "execution_count": 25
    }
   ],
   "source": [
    "insert = (\"Insert into job_application VALUES (1, 1)\")\n",
    "cur.execute(insert)\n",
    "cur.execute(\"Select * from job_application\")\n",
    "cur.fetchall()"
   ]
  },
  {
   "cell_type": "code",
   "execution_count": null,
   "metadata": {},
   "outputs": [],
   "source": []
  }
 ]
}